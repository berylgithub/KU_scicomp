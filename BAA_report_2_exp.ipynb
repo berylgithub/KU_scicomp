{
 "cells": [
  {
   "cell_type": "markdown",
   "metadata": {},
   "source": [
    "### Multigrid Implementations"
   ]
  },
  {
   "cell_type": "code",
   "execution_count": 2,
   "metadata": {
    "scrolled": true
   },
   "outputs": [],
   "source": [
    "#u-u\"=b\n",
    "import numpy as np\n",
    "import matplotlib.pyplot as plt\n",
    "import time\n",
    "\n",
    "def jacobi(v, b, omega=1):\n",
    "    v[1:-1] = (1 - omega)*v[1:-1] + omega*(1./2)*(b[1:-1] + v[:-2] + v[2:])\n",
    "    \n",
    "def gauss_seidel(v, b):\n",
    "    for i in range(1, N):\n",
    "        v[i] = (1./2) * (b[i] + v[i-1] + v[i+1])\n",
    "\n",
    "def restrict(v):\n",
    "    return np.pad(0.25*v[1:-3:2] + 0.5*v[2:-2:2] + 0.25*v[3:-1:2], 1, 'constant')\n",
    "\n",
    "def prolong(v):\n",
    "    r = np.zeros(2*len(v) - 1)\n",
    "    r[::2] = v\n",
    "    r[1::2] = 0.5 * (v[:-1] + v[1:])\n",
    "    return r\n",
    "\n",
    "\n",
    "def Amul(v):\n",
    "    return np.pad(-v[:-2] + 2.*v[1:-1] - v[2:], 1, 'constant')\n",
    "\n",
    "def vcycle(v, b):\n",
    "    for i in range(4):\n",
    "        jacobi(v, b, 2./3)\n",
    "\n",
    "    if len(v) <= 3:\n",
    "        return\n",
    "\n",
    "    r = b - Amul(v)\n",
    "    r2 = 4*restrict(r)\n",
    "    v2 = np.zeros_like(r2)\n",
    "    vcycle(v2, r2)\n",
    "    v += prolong(v2)\n",
    "\n",
    "    for i in range(4):\n",
    "        jacobi(v, b, 2./3)\n",
    "    \n",
    "def vcycle2(v, b):\n",
    "    for i in range(4):\n",
    "        gauss_seidel(v, b)\n",
    "        \n",
    "    if len(v) <= 3:\n",
    "        return\n",
    "\n",
    "    r = b - Amul(v)\n",
    "    r2 = 4*restrict(r)\n",
    "    #r2 = restrict(r)\n",
    "    v2 = np.zeros_like(r2)\n",
    "    vcycle(v2, r2)\n",
    "    v += prolong(v2)\n",
    "\n",
    "    for i in range(4):\n",
    "        gauss_seidel(v, b)\n",
    "        \n",
    "\n",
    "f_b = lambda x, h: (h**2) * (np.sin(12*np.pi*x) + np.sin(2*np.pi*x) + np.sin(np.pi*x))*(x**8)"
   ]
  },
  {
   "cell_type": "markdown",
   "metadata": {},
   "source": [
    "#### Multigrid with damped jacobi:"
   ]
  },
  {
   "cell_type": "code",
   "execution_count": 4,
   "metadata": {},
   "outputs": [
    {
     "name": "stdout",
     "output_type": "stream",
     "text": [
      "--\n",
      "--- running time : 0.047872066497802734 seconds ---\n",
      "--\n",
      "||r_0||/||r_1||= 21.72003847825533\n",
      "||r_1||/||r_2||= 21.717993003051564\n"
     ]
    },
    {
     "data": {
      "image/png": "[encoded data removed]",
      "text/plain": [
       "<Figure size 432x288 with 1 Axes>"
      ]
     },
     "metadata": {
      "needs_background": "light"
     },
     "output_type": "display_data"
    }
   ],
   "source": [
    "#N = 2**8\n",
    "'''initialization'''\n",
    "N = 2**8\n",
    "h = 1./N\n",
    "x = np.linspace(0., 1., N + 1)\n",
    "b = f_b(x,h)\n",
    "b[0] = b[-1] = 0\n",
    "v = np.zeros_like(x)\n",
    "\n",
    "\n",
    "'''calculation'''\n",
    "print('--')\n",
    "j=0\n",
    "k=20\n",
    "r_norm = np.zeros(k)\n",
    "\n",
    "start_time = time.time()\n",
    "\n",
    "for i in range(k):\n",
    "    vcycle(v, b)\n",
    "    r = b - Amul(v)\n",
    "    r_norm[i] = np.linalg.norm(r)\n",
    "    plt.plot(x, r)\n",
    "    \n",
    "print(\"--- running time : %s seconds ---\" % (time.time() - start_time))\n",
    "\n",
    "print('--')\n",
    "'''visualization'''\n",
    "#print(np.linalg.norm(np.absolute(v-v_star)))\n",
    "print(\"||r_0||/||r_1||=\",r_norm[0]/r_norm[1])\n",
    "print(\"||r_1||/||r_2||=\",r_norm[1]/r_norm[2])\n",
    "\n",
    "#plt.legend()\n",
    "plt.subplot(122)\n",
    "plt.semilogy(range(0, len(r_norm)), r_norm / [r_norm[0]], label = r'$||r_k|| / ||r_0||$')\n",
    "plt.semilogy(range(0, len(r_norm)), [10**(-k) for k in range(len(r_norm))], '--', label = r'$10^{-k}$')\n",
    "plt.legend()\n",
    "plt.xlabel('V-cycle iteration')\n",
    "\n",
    "\n",
    "plt.show()\n"
   ]
  },
  {
   "cell_type": "code",
   "execution_count": 5,
   "metadata": {},
   "outputs": [
    {
     "name": "stdout",
     "output_type": "stream",
     "text": [
      "--\n",
      "--- running time : 0.27226853370666504 seconds ---\n",
      "--\n",
      "||r_0||/||r_1||= 21.364805098475752\n",
      "||r_1||/||r_2||= 21.365183334389382\n"
     ]
    },
    {
     "data": {
      "image/png": "[encoded data removed]",
      "text/plain": [
       "<Figure size 432x288 with 1 Axes>"
      ]
     },
     "metadata": {
      "needs_background": "light"
     },
     "output_type": "display_data"
    }
   ],
   "source": [
    "#N = 2**16\n",
    "'''initialization'''\n",
    "N = 2**16\n",
    "h = 1./N\n",
    "x = np.linspace(0., 1., N + 1)\n",
    "b = f_b(x,h)\n",
    "b[0] = b[-1] = 0\n",
    "v = np.zeros_like(x)\n",
    "\n",
    "\n",
    "'''calculation'''\n",
    "print('--')\n",
    "j=0\n",
    "k=20\n",
    "r_norm = np.zeros(k)\n",
    "\n",
    "start_time = time.time()\n",
    "\n",
    "for i in range(k):\n",
    "    vcycle(v, b)\n",
    "    r = b - Amul(v)\n",
    "    r_norm[i] = np.linalg.norm(r)\n",
    "    plt.plot(x, r)\n",
    "    \n",
    "print(\"--- running time : %s seconds ---\" % (time.time() - start_time))\n",
    "\n",
    "print('--')\n",
    "'''visualization'''\n",
    "#print(np.linalg.norm(np.absolute(v-v_star)))\n",
    "print(\"||r_0||/||r_1||=\",r_norm[0]/r_norm[1])\n",
    "print(\"||r_1||/||r_2||=\",r_norm[1]/r_norm[2])\n",
    "\n",
    "#plt.legend()\n",
    "plt.subplot(122)\n",
    "plt.semilogy(range(0, len(r_norm)), r_norm / [r_norm[0]], label = r'$||r_k|| / ||r_0||$')\n",
    "plt.semilogy(range(0, len(r_norm)), [10**(-k) for k in range(len(r_norm))], '--', label = r'$10^{-k}$')\n",
    "plt.legend()\n",
    "plt.xlabel('V-cycle iteration')\n",
    "\n",
    "\n",
    "plt.show()\n"
   ]
  },
  {
   "cell_type": "code",
   "execution_count": 9,
   "metadata": {},
   "outputs": [
    {
     "name": "stdout",
     "output_type": "stream",
     "text": [
      "--\n",
      "iter= 0 , r= [ 0.00000000e+00  1.03397577e-25  5.16987883e-26 ... -9.49951384e-22\n",
      " -6.95837042e-22  0.00000000e+00]\n",
      "iter= 1 , r= [ 0.00000000e+00  1.58972600e-78  8.13939711e-76 ... -5.74235035e-23\n",
      " -4.40187190e-23  0.00000000e+00]\n",
      "iter= 2 , r= [ 0.00000000e+00  1.58972600e-78  8.13939711e-76 ... -4.48394429e-24\n",
      " -1.83250775e-24  0.00000000e+00]\n",
      "iter= 3 , r= [ 0.00000000e+00  1.58972600e-78  8.13939711e-76 ...  6.55490799e-26\n",
      " -1.00532714e-24  0.00000000e+00]\n",
      "iter= 4 , r= [ 0.00000000e+00  1.58972600e-78 -5.16987883e-26 ...  1.71991030e-24\n",
      " -1.78146527e-25  0.00000000e+00]\n",
      "iter= 5 , r= [ 0.00000000e+00 -5.16987883e-26  5.16987883e-26 ...  1.30632000e-24\n",
      " -1.78146527e-25  0.00000000e+00]\n",
      "iter= 6 , r= [ 0.00000000e+00  1.58972600e-78 -5.16987883e-26 ...  4.79139386e-25\n",
      " -1.78146527e-25  0.00000000e+00]\n",
      "iter= 7 , r= [ 0.00000000e+00 -5.16987883e-26  5.16987883e-26 ... -3.48041226e-25\n",
      "  6.49034085e-25  0.00000000e+00]\n",
      "iter= 8 , r= [ 0.00000000e+00  1.58972600e-78  8.13939711e-76 ...  1.71991030e-24\n",
      " -1.78146527e-25  0.00000000e+00]\n",
      "iter= 9 , r= [ 0.00000000e+00  1.58972600e-78 -5.16987883e-26 ... -7.61631533e-25\n",
      " -1.78146527e-25  0.00000000e+00]\n",
      "iter= 10 , r= [ 0.00000000e+00  1.58972600e-78 -5.16987883e-26 ... -1.17522184e-24\n",
      "  6.49034085e-25  0.00000000e+00]\n",
      "iter= 11 , r= [ 0.00000000e+00  1.58972600e-78  8.13939711e-76 ... -1.17522184e-24\n",
      "  6.49034085e-25  0.00000000e+00]\n",
      "iter= 12 , r= [ 0.00000000e+00  5.16987883e-26  8.13939711e-76 ... -3.48041226e-25\n",
      " -1.78146527e-25  0.00000000e+00]\n",
      "iter= 13 , r= [ 0.00000000e+00  1.58972600e-78  8.13939711e-76 ... -2.41599276e-24\n",
      "  6.49034085e-25  0.00000000e+00]\n",
      "iter= 14 , r= [ 0.00000000e+00  1.58972600e-78  8.13939711e-76 ... -2.00240245e-24\n",
      "  6.49034085e-25  0.00000000e+00]\n",
      "iter= 15 , r= [0.00000000e+00 1.58972600e-78 8.13939711e-76 ... 4.79139386e-25\n",
      " 6.49034085e-25 0.00000000e+00]\n",
      "iter= 16 , r= [ 0.00000000e+00  1.58972600e-78  8.13939711e-76 ... -1.17522184e-24\n",
      "  6.49034085e-25  0.00000000e+00]\n",
      "iter= 17 , r= [ 0.00000000e+00  1.58972600e-78  8.13939711e-76 ... -3.48041226e-25\n",
      "  6.49034085e-25  0.00000000e+00]\n",
      "iter= 18 , r= [ 0.00000000e+00 -5.16987883e-26  5.16987883e-26 ...  4.79139386e-25\n",
      " -1.00532714e-24  0.00000000e+00]\n",
      "iter= 19 , r= [ 0.00000000e+00  1.58972600e-78  8.13939711e-76 ...  2.13350061e-24\n",
      " -1.00532714e-24  0.00000000e+00]\n",
      "--- running time : 255.7484302520752 seconds ---\n",
      "--\n",
      "||r_0||/||r_1||= 21.031307393382455\n",
      "||r_1||/||r_2||= 5.990510178875759\n"
     ]
    },
    {
     "data": {
      "image/png": "[encoded data removed]",
      "text/plain": [
       "<Figure size 432x288 with 1 Axes>"
      ]
     },
     "metadata": {
      "needs_background": "light"
     },
     "output_type": "display_data"
    }
   ],
   "source": [
    "#N = 2**24\n",
    "'''initialization'''\n",
    "N = 2**24\n",
    "h = 1./N\n",
    "x = np.linspace(0., 1., N + 1)\n",
    "b = f_b(x,h)\n",
    "b[0] = b[-1] = 0\n",
    "v = np.zeros_like(x)\n",
    "\n",
    "\n",
    "'''calculation'''\n",
    "print('--')\n",
    "j=0\n",
    "k=20\n",
    "r_norm = np.zeros(k)\n",
    "\n",
    "start_time = time.time()\n",
    "\n",
    "for i in range(k):\n",
    "    vcycle(v, b)\n",
    "    r = b - Amul(v)\n",
    "    r_norm[i] = np.linalg.norm(r)\n",
    "    plt.plot(x, r)\n",
    "    print('iter=',i,', r=',r)\n",
    "    \n",
    "print(\"--- running time : %s seconds ---\" % (time.time() - start_time))\n",
    "\n",
    "print('--')\n",
    "'''visualization'''\n",
    "#print(np.linalg.norm(np.absolute(v-v_star)))\n",
    "print(\"||r_0||/||r_1||=\",r_norm[0]/r_norm[1])\n",
    "print(\"||r_1||/||r_2||=\",r_norm[1]/r_norm[2])\n",
    "\n",
    "#plt.legend()\n",
    "plt.subplot(122)\n",
    "plt.semilogy(range(0, len(r_norm)), r_norm / [r_norm[0]], label = r'$||r_k|| / ||r_0||$')\n",
    "plt.semilogy(range(0, len(r_norm)), [10**(-k) for k in range(len(r_norm))], '--', label = r'$10^{-k}$')\n",
    "plt.legend()\n",
    "plt.xlabel('V-cycle iteration')\n",
    "\n",
    "\n",
    "plt.show()\n"
   ]
  },
  {
   "cell_type": "markdown",
   "metadata": {},
   "source": [
    "#### Multigrid with Gauss seidel:"
   ]
  },
  {
   "cell_type": "code",
   "execution_count": 7,
   "metadata": {},
   "outputs": [
    {
     "name": "stdout",
     "output_type": "stream",
     "text": [
      "--\n",
      "--- running time : 0.043913841247558594 seconds ---\n",
      "--\n",
      "||r_0||/||r_1||= 24.015577163737643\n",
      "||r_1||/||r_2||= 23.833232520059724\n"
     ]
    },
    {
     "data": {
      "image/png": "[encoded data removed]",
      "text/plain": [
       "<Figure size 432x288 with 1 Axes>"
      ]
     },
     "metadata": {
      "needs_background": "light"
     },
     "output_type": "display_data"
    }
   ],
   "source": [
    "#multigrid with Gauss seidel implementation\n",
    "'''initialization'''\n",
    "N = 2**8\n",
    "h = 1./N\n",
    "x = np.linspace(0., 1., N + 1)\n",
    "b = f_b(x,h)\n",
    "b[0] = b[-1] = 0\n",
    "v = np.zeros_like(x)\n",
    "\n",
    "'''calculation'''\n",
    "print('--')\n",
    "j=0\n",
    "k=20\n",
    "r_norm = np.zeros(k)\n",
    "\n",
    "start_time = time.time()\n",
    "\n",
    "for i in range(k):\n",
    "    vcycle2(v, b)\n",
    "    r = b - Amul(v)\n",
    "    r_norm[i] = np.linalg.norm(r)\n",
    "\n",
    "print(\"--- running time : %s seconds ---\" % (time.time() - start_time))\n",
    "\n",
    "print('--')\n",
    "'''visualization'''\n",
    "#print(np.linalg.norm(np.absolute(v-v_star)))\n",
    "print(\"||r_0||/||r_1||=\",r_norm[0]/r_norm[1])\n",
    "print(\"||r_1||/||r_2||=\",r_norm[1]/r_norm[2])\n",
    "\n",
    "#plt.legend()\n",
    "plt.subplot(122)\n",
    "plt.semilogy(range(0, len(r_norm)), r_norm / [r_norm[0]], label = r'$||r_k|| / ||r_0||$')\n",
    "plt.semilogy(range(0, len(r_norm)), [10**(-k) for k in range(len(r_norm))], '--', label = r'$10^{-k}$')\n",
    "plt.legend()\n",
    "plt.xlabel('V-cycle iteration')\n",
    "\n",
    "\n",
    "plt.show()"
   ]
  },
  {
   "cell_type": "code",
   "execution_count": 8,
   "metadata": {},
   "outputs": [
    {
     "name": "stdout",
     "output_type": "stream",
     "text": [
      "--\n",
      "--- running time : 6.815772294998169 seconds ---\n",
      "--\n",
      "||r_0||/||r_1||= 21.364966501959344\n",
      "||r_1||/||r_2||= 21.365408063160306\n"
     ]
    },
    {
     "data": {
      "image/png": "[encoded data removed]",
      "text/plain": [
       "<Figure size 432x288 with 1 Axes>"
      ]
     },
     "metadata": {
      "needs_background": "light"
     },
     "output_type": "display_data"
    }
   ],
   "source": [
    "#multigrid with Gauss seidel implementation\n",
    "'''initialization'''\n",
    "N = 2**16\n",
    "h = 1./N\n",
    "x = np.linspace(0., 1., N + 1)\n",
    "b = f_b(x,h)\n",
    "b[0] = b[-1] = 0\n",
    "v = np.zeros_like(x)\n",
    "\n",
    "'''calculation'''\n",
    "print('--')\n",
    "j=0\n",
    "k=20\n",
    "r_norm = np.zeros(k)\n",
    "\n",
    "start_time = time.time()\n",
    "\n",
    "for i in range(k):\n",
    "    vcycle2(v, b)\n",
    "    r = b - Amul(v)\n",
    "    r_norm[i] = np.linalg.norm(r)\n",
    "\n",
    "print(\"--- running time : %s seconds ---\" % (time.time() - start_time))\n",
    "\n",
    "print('--')\n",
    "'''visualization'''\n",
    "#print(np.linalg.norm(np.absolute(v-v_star)))\n",
    "print(\"||r_0||/||r_1||=\",r_norm[0]/r_norm[1])\n",
    "print(\"||r_1||/||r_2||=\",r_norm[1]/r_norm[2])\n",
    "\n",
    "#plt.legend()\n",
    "plt.subplot(122)\n",
    "plt.semilogy(range(0, len(r_norm)), r_norm / [r_norm[0]], label = r'$||r_k|| / ||r_0||$')\n",
    "plt.semilogy(range(0, len(r_norm)), [10**(-k) for k in range(len(r_norm))], '--', label = r'$10^{-k}$')\n",
    "plt.legend()\n",
    "plt.xlabel('V-cycle iteration')\n",
    "\n",
    "\n",
    "plt.show()"
   ]
  },
  {
   "cell_type": "code",
   "execution_count": 10,
   "metadata": {},
   "outputs": [
    {
     "name": "stdout",
     "output_type": "stream",
     "text": [
      "--\n",
      "iter= 0 , ||r_i||= 1.275015850476908e-13\n",
      "iter= 1 , ||r_i||= 6.0624659543424024e-15\n",
      "iter= 2 , ||r_i||= 1.0120116272768186e-15\n",
      "iter= 3 , ||r_i||= 8.703088726867671e-16\n",
      "iter= 4 , ||r_i||= 8.521157956182821e-16\n",
      "iter= 5 , ||r_i||= 8.492296443356714e-16\n",
      "iter= 6 , ||r_i||= 8.467107457606042e-16\n",
      "iter= 7 , ||r_i||= 8.607715600950466e-16\n",
      "iter= 8 , ||r_i||= 8.648134579019855e-16\n",
      "iter= 9 , ||r_i||= 8.671457337473179e-16\n",
      "iter= 10 , ||r_i||= 8.623070842806391e-16\n",
      "iter= 11 , ||r_i||= 8.666222840393928e-16\n",
      "iter= 12 , ||r_i||= 8.6229248996661e-16\n",
      "iter= 13 , ||r_i||= 8.651173237515812e-16\n",
      "iter= 14 , ||r_i||= 8.623672406793052e-16\n",
      "iter= 15 , ||r_i||= 8.623539019824972e-16\n",
      "iter= 16 , ||r_i||= 8.666878517395132e-16\n",
      "iter= 17 , ||r_i||= 8.618020825763553e-16\n",
      "iter= 18 , ||r_i||= 8.642736241582335e-16\n",
      "iter= 19 , ||r_i||= 8.663614595565849e-16\n",
      "--- running time : 398.79258394241333 seconds ---\n",
      "--\n",
      "||r_0||/||r_1||= 21.031307393382455\n",
      "||r_1||/||r_2||= 5.990510178875759\n"
     ]
    },
    {
     "data": {
      "image/png": "[encoded data removed]",
      "text/plain": [
       "<Figure size 432x288 with 1 Axes>"
      ]
     },
     "metadata": {
      "needs_background": "light"
     },
     "output_type": "display_data"
    }
   ],
   "source": [
    "#N = 2**24\n",
    "'''initialization'''\n",
    "N = 2**24\n",
    "h = 1./N\n",
    "x = np.linspace(0., 1., N + 1)\n",
    "b = f_b(x,h)\n",
    "b[0] = b[-1] = 0\n",
    "v = np.zeros_like(x)\n",
    "\n",
    "\n",
    "'''calculation'''\n",
    "print('--')\n",
    "j=0\n",
    "k=20\n",
    "r_norm = np.zeros(k)\n",
    "\n",
    "start_time = time.time()\n",
    "\n",
    "for i in range(k):\n",
    "    vcycle(v, b)\n",
    "    r = b - Amul(v)\n",
    "    r_norm[i] = np.linalg.norm(r)\n",
    "    plt.plot(x, r)\n",
    "    print('iter=',i,', ||r_i||=',r_norm[i])\n",
    "    \n",
    "print(\"--- running time : %s seconds ---\" % (time.time() - start_time))\n",
    "\n",
    "print('--')\n",
    "'''visualization'''\n",
    "#print(np.linalg.norm(np.absolute(v-v_star)))\n",
    "print(\"||r_0||/||r_1||=\",r_norm[0]/r_norm[1])\n",
    "print(\"||r_1||/||r_2||=\",r_norm[1]/r_norm[2])\n",
    "\n",
    "#plt.legend()\n",
    "plt.subplot(122)\n",
    "plt.semilogy(range(0, len(r_norm)), r_norm / [r_norm[0]], label = r'$||r_k|| / ||r_0||$')\n",
    "plt.semilogy(range(0, len(r_norm)), [10**(-k) for k in range(len(r_norm))], '--', label = r'$10^{-k}$')\n",
    "plt.legend()\n",
    "plt.xlabel('V-cycle iteration')\n",
    "\n",
    "\n",
    "plt.show()\n"
   ]
  },
  {
   "cell_type": "code",
   "execution_count": null,
   "metadata": {},
   "outputs": [],
   "source": []
  }
 ],
 "metadata": {
  "kernelspec": {
   "display_name": "Python 3",
   "language": "python",
   "name": "python3"
  },
  "language_info": {
   "codemirror_mode": {
    "name": "ipython",
    "version": 3
   },
   "file_extension": ".py",
   "mimetype": "text/x-python",
   "name": "python",
   "nbconvert_exporter": "python",
   "pygments_lexer": "ipython3",
   "version": "3.7.1"
  }
 },
 "nbformat": 4,
 "nbformat_minor": 2
}
