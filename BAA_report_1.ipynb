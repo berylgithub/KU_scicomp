{
 "cells": [
  {
   "cell_type": "code",
   "execution_count": 37,
   "metadata": {},
   "outputs": [],
   "source": [
    "import numpy as np\n",
    "from numpy import linalg as LA\n",
    "from scipy.sparse import diags"
   ]
  },
  {
   "cell_type": "code",
   "execution_count": 130,
   "metadata": {},
   "outputs": [],
   "source": [
    "#jacobi & gauss-seidel method\n",
    "def linear_iterative_methods(A, b, x, eps, max_iter, method=\"gauss_seidel\", log=True):\n",
    "    D=np.diag(np.diag(A))\n",
    "    T=A-D\n",
    "    err=0\n",
    "    k=1\n",
    "    if log:\n",
    "        print(\"Init state\")\n",
    "        print(\"A =\\n\",A)\n",
    "        print(\"b =\",b)\n",
    "        print(\"x =\",x)\n",
    "        print(\"max_iter =\",max_iter,\", method =\",method,\"\\n\")\n",
    "        print(\"iteration\\tx_vector\\terr\")\n",
    "    while(k<=max_iter):\n",
    "        x_prev = np.copy(x)\n",
    "        for i in range(len(A)):\n",
    "            if method==\"jacobian\":\n",
    "                x[i] = ((np.sum(-1*T[i]*x_prev))+b[i]) / A[i][i]\n",
    "            elif method==\"gauss_seidel\":\n",
    "                x[i] = ((np.sum(-1*T[i]*x))+b[i]) / A[i][i]\n",
    "        err=np.linalg.norm(x-x_prev)/np.linalg.norm(x, np.inf)\n",
    "        if log:\n",
    "            print(str(k)+\"\\t\", str(x)+\"\\t\", str(err)+\"\\n\")\n",
    "        if(err<eps):\n",
    "            break\n",
    "        k+=1\n",
    "    return x, k\n",
    "\n",
    "#tridiagonal algorithm\n",
    "def tridiagonal_algo(A, d, x):\n",
    "    #matrix separation\n",
    "    b = np.copy(np.diag(A))\n",
    "    a = np.concatenate(([0], np.diagonal(A,-1))) #lower\n",
    "    c = np.concatenate((np.diagonal(A,1), [0])) #upper\n",
    "    n=len(A)\n",
    "    #thomas algorithm\n",
    "    #forward sweep:\n",
    "    for i in range(1, n):\n",
    "        w = a[i]/float(b[i-1])\n",
    "        b[i] = b[i] - (w*c[i-1])\n",
    "        d[i] = d[i] - (w*d[i-1])\n",
    "    #back-substitution:\n",
    "    x[n-1] = d[n-1]/b[n-1]\n",
    "    for i in range(n-2, -1, -1):\n",
    "        x[i] = (d[i] - c[i]*x[i+1])/b[i]\n",
    "    return x"
   ]
  },
  {
   "cell_type": "code",
   "execution_count": 126,
   "metadata": {},
   "outputs": [],
   "source": [
    "x=np.zeros((4))\n",
    "A=np.array([[10,-1,2,0],[-1,11,-1,3],[2,-1,10,-1],[0,3,-1,8]])\n",
    "b=np.array([6, 25, -11, 15])\n",
    "x, k=linear_iterative_methods(A, b, x, 0.001, 20, method = 'jacobian', log=False)"
   ]
  },
  {
   "cell_type": "code",
   "execution_count": 127,
   "metadata": {},
   "outputs": [],
   "source": [
    "#tridiagonal system\n",
    "x=np.zeros((3))\n",
    "A=np.array([[3,-1,0],\n",
    "            [-1,3,-1],\n",
    "            [0,-1,3]])\n",
    "b=np.array([-1,7,7])\n",
    "x, k=linear_iterative_methods(A, b, x, 0.001, 20, method = 'jacobian', log=False)"
   ]
  },
  {
   "cell_type": "code",
   "execution_count": 131,
   "metadata": {},
   "outputs": [
    {
     "name": "stdout",
     "output_type": "stream",
     "text": [
      "[0.95238095 3.85714286 3.61904762]\n"
     ]
    }
   ],
   "source": [
    "#testing tridiagonal algo\n",
    "#init matrices\n",
    "#matrix from https://www.slideshare.net/ParidhiMadurar/thomas-algorithm\n",
    "x=np.zeros((3))\n",
    "A=(np.array([[3,-1,0],\n",
    "            [-1,3,-1],\n",
    "            [0,-1,3]])).astype('float64')\n",
    "d=(np.array([-1,7,7])).astype('float64')\n",
    "\n",
    "print(tridiagonal_algo(A, d, x))\n"
   ]
  },
  {
   "cell_type": "code",
   "execution_count": 153,
   "metadata": {},
   "outputs": [
    {
     "name": "stdout",
     "output_type": "stream",
     "text": [
      "[[0. 1. 0.]\n",
      " [0. 0. 0.]\n",
      " [0. 0. 0.]\n",
      " [0. 0. 0.]\n",
      " [0. 0. 0.]\n",
      " [0. 0. 0.]\n",
      " [0. 0. 0.]\n",
      " [0. 0. 0.]\n",
      " [0. 0. 0.]\n",
      " [0. 0. 0.]\n",
      " [0. 0. 0.]\n",
      " [0. 0. 0.]\n",
      " [0. 0. 0.]\n",
      " [0. 0. 0.]\n",
      " [0. 0. 0.]\n",
      " [0. 0. 0.]\n",
      " [0. 0. 0.]\n",
      " [0. 0. 0.]\n",
      " [0. 0. 0.]\n",
      " [0. 0. 0.]]\n",
      "[1. 5. 1.]\n",
      "[1.73205081 5.19615242 1.73205081]\n",
      "[2.11057941 5.12569286 2.11057941]\n",
      "[2.28747855 5.03245282 2.28747855]\n",
      "[2.37062925 4.97067423 2.37062925]\n",
      "[2.41062801 4.93604782 2.41062801]\n",
      "[2.43020478 4.91781597 2.43020478]\n",
      "[2.43988419 4.90847291 2.43988419]\n",
      "[2.44469626 4.90374494 2.44469626]\n",
      "[2.44709533 4.90136689 2.44709533]\n",
      "[2.44829312 4.90017436 2.44829312]\n",
      "[2.44889158 4.89957721 2.44889158]\n",
      "[2.4491907  4.89927842 2.4491907 ]\n",
      "[2.44934023 4.89912897 2.44934023]\n",
      "[2.44941499 4.89905423 2.44941499]\n",
      "[2.44945237 4.89901686 2.44945237]\n",
      "[2.44947105 4.89899817 2.44947105]\n",
      "[2.4494804  4.89898883 2.4494804 ]\n",
      "[2.44948507 4.89898416 2.44948507]\n",
      "[[0.         1.         0.        ]\n",
      " [0.19245009 0.96225045 0.19245009]\n",
      " [0.30151134 0.90453403 0.30151134]\n",
      " [0.35583    0.86415857 0.35583   ]\n",
      " [0.38235956 0.84119102 0.38235956]\n",
      " [0.39539401 0.82905196 0.39539401]\n",
      " [0.40184489 0.82282524 0.40184489]\n",
      " [0.40505267 0.81967351 0.40505267]\n",
      " [0.40665202 0.81808818 0.40665202]\n",
      " [0.40745054 0.81729316 0.40745054]\n",
      " [0.40784951 0.81689507 0.40784951]\n",
      " [0.40804893 0.81669587 0.40804893]\n",
      " [0.40814861 0.81659624 0.40814861]\n",
      " [0.40819845 0.81654641 0.40819845]\n",
      " [0.40822337 0.8165215  0.40822337]\n",
      " [0.40823583 0.81650904 0.40823583]\n",
      " [0.40824206 0.81650281 0.40824206]\n",
      " [0.40824518 0.8164997  0.40824518]\n",
      " [0.40824673 0.81649814 0.40824673]\n",
      " [0.40824751 0.81649736 0.40824751]]\n"
     ]
    }
   ],
   "source": [
    "#Problem 2 :\n",
    "A = (np.array([[3,1,1],\n",
    "              [1,5,1],\n",
    "              [1,1,3]])).astype('float64')\n",
    "n = 20 \n",
    "x = np.zeros((n,3))\n",
    "x[0] = np.array([0,1,0])\n",
    "print(x)\n",
    "for k in range(n-1):\n",
    "    res = np.matmul(A, x[k])\n",
    "    print(res)\n",
    "    x[k+1] = res/LA.norm(res)\n",
    "print(x)"
   ]
  },
  {
   "cell_type": "code",
   "execution_count": 6,
   "metadata": {},
   "outputs": [
    {
     "name": "stdout",
     "output_type": "stream",
     "text": [
      "[6. 2. 3.]\n",
      "[[-4.08248290e-01 -7.07106781e-01  5.77350269e-01]\n",
      " [-8.16496581e-01  9.72565920e-16 -5.77350269e-01]\n",
      " [-4.08248290e-01  7.07106781e-01  5.77350269e-01]]\n"
     ]
    }
   ],
   "source": [
    "w, v = LA.eig(np.array([[3,1,1],[1,5,1],[1,1,3]]))\n",
    "print(w)\n",
    "print(v)"
   ]
  },
  {
   "cell_type": "code",
   "execution_count": null,
   "metadata": {},
   "outputs": [],
   "source": []
  },
  {
   "cell_type": "code",
   "execution_count": null,
   "metadata": {},
   "outputs": [],
   "source": []
  }
 ],
 "metadata": {
  "kernelspec": {
   "display_name": "Python 3",
   "language": "python",
   "name": "python3"
  },
  "language_info": {
   "codemirror_mode": {
    "name": "ipython",
    "version": 3
   },
   "file_extension": ".py",
   "mimetype": "text/x-python",
   "name": "python",
   "nbconvert_exporter": "python",
   "pygments_lexer": "ipython3",
   "version": "3.7.1"
  }
 },
 "nbformat": 4,
 "nbformat_minor": 2
}
