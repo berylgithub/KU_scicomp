{
 "cells": [
  {
   "cell_type": "code",
   "execution_count": 37,
   "metadata": {},
   "outputs": [],
   "source": [
    "import numpy as np\n",
    "from numpy import linalg as LA\n",
    "from scipy.sparse import diags"
   ]
  },
  {
   "cell_type": "code",
   "execution_count": 130,
   "metadata": {},
   "outputs": [],
   "source": [
    "#jacobi & gauss-seidel method\n",
    "def linear_iterative_methods(A, b, x, eps, max_iter, method=\"gauss_seidel\", log=True):\n",
    "    D=np.diag(np.diag(A))\n",
    "    T=A-D\n",
    "    err=0\n",
    "    k=1\n",
    "    if log:\n",
    "        print(\"Init state\")\n",
    "        print(\"A =\\n\",A)\n",
    "        print(\"b =\",b)\n",
    "        print(\"x =\",x)\n",
    "        print(\"max_iter =\",max_iter,\", method =\",method,\"\\n\")\n",
    "        print(\"iteration\\tx_vector\\terr\")\n",
    "    while(k<=max_iter):\n",
    "        x_prev = np.copy(x)\n",
    "        for i in range(len(A)):\n",
    "            if method==\"jacobian\":\n",
    "                x[i] = ((np.sum(-1*T[i]*x_prev))+b[i]) / A[i][i]\n",
    "            elif method==\"gauss_seidel\":\n",
    "                x[i] = ((np.sum(-1*T[i]*x))+b[i]) / A[i][i]\n",
    "        err=np.linalg.norm(x-x_prev)/np.linalg.norm(x, np.inf)\n",
    "        if log:\n",
    "            print(str(k)+\"\\t\", str(x)+\"\\t\", str(err)+\"\\n\")\n",
    "        if(err<eps):\n",
    "            break\n",
    "        k+=1\n",
    "    return x, k\n",
    "\n",
    "#tridiagonal algorithm\n",
    "def tridiagonal_algo(A, d, x):\n",
    "    #matrix separation\n",
    "    b = np.copy(np.diag(A))\n",
    "    a = np.concatenate(([0], np.diagonal(A,-1))) #lower\n",
    "    c = np.concatenate((np.diagonal(A,1), [0])) #upper\n",
    "    n=len(A)\n",
    "    #thomas algorithm\n",
    "    #forward sweep:\n",
    "    for i in range(1, n):\n",
    "        w = a[i]/float(b[i-1])\n",
    "        b[i] = b[i] - (w*c[i-1])\n",
    "        d[i] = d[i] - (w*d[i-1])\n",
    "    #back-substitution:\n",
    "    x[n-1] = d[n-1]/b[n-1]\n",
    "    for i in range(n-2, -1, -1):\n",
    "        x[i] = (d[i] - c[i]*x[i+1])/b[i]\n",
    "    return x"
   ]
  },
  {
   "cell_type": "code",
   "execution_count": 126,
   "metadata": {},
   "outputs": [],
   "source": [
    "x=np.zeros((4))\n",
    "A=np.array([[10,-1,2,0],[-1,11,-1,3],[2,-1,10,-1],[0,3,-1,8]])\n",
    "b=np.array([6, 25, -11, 15])\n",
    "x, k=linear_iterative_methods(A, b, x, 0.001, 20, method = 'jacobian', log=False)"
   ]
  },
  {
   "cell_type": "code",
   "execution_count": 127,
   "metadata": {},
   "outputs": [],
   "source": [
    "#tridiagonal system\n",
    "x=np.zeros((3))\n",
    "A=np.array([[3,-1,0],\n",
    "            [-1,3,-1],\n",
    "            [0,-1,3]])\n",
    "b=np.array([-1,7,7])\n",
    "x, k=linear_iterative_methods(A, b, x, 0.001, 20, method = 'jacobian', log=False)"
   ]
  },
  {
   "cell_type": "code",
   "execution_count": 131,
   "metadata": {},
   "outputs": [
    {
     "name": "stdout",
     "output_type": "stream",
     "text": [
      "[0.95238095 3.85714286 3.61904762]\n"
     ]
    }
   ],
   "source": [
    "#testing tridiagonal algo\n",
    "#init matrices\n",
    "#matrix from https://www.slideshare.net/ParidhiMadurar/thomas-algorithm\n",
    "x=np.zeros((3))\n",
    "A=(np.array([[3,-1,0],\n",
    "            [-1,3,-1],\n",
    "            [0,-1,3]])).astype('float64')\n",
    "d=(np.array([-1,7,7])).astype('float64')\n",
    "\n",
    "print(tridiagonal_algo(A, d, x))\n"
   ]
  },
  {
   "cell_type": "code",
   "execution_count": 151,
   "metadata": {},
   "outputs": [
    {
     "name": "stdout",
     "output_type": "stream",
     "text": [
      "[[1. 0. 0.]\n",
      " [0. 0. 0.]\n",
      " [0. 0. 0.]\n",
      " [0. 0. 0.]\n",
      " [0. 0. 0.]\n",
      " [0. 0. 0.]\n",
      " [0. 0. 0.]\n",
      " [0. 0. 0.]\n",
      " [0. 0. 0.]\n",
      " [0. 0. 0.]\n",
      " [0. 0. 0.]\n",
      " [0. 0. 0.]\n",
      " [0. 0. 0.]\n",
      " [0. 0. 0.]\n",
      " [0. 0. 0.]\n",
      " [0. 0. 0.]\n",
      " [0. 0. 0.]\n",
      " [0. 0. 0.]\n",
      " [0. 0. 0.]\n",
      " [0. 0. 0.]]\n",
      "[3. 1. 1.]\n",
      "[3.31662479 2.7136021  2.11057941]\n",
      "[3.09285258 3.97652474 2.58789705]\n",
      "[2.79736288 4.51367318 2.61904493]\n",
      "[2.62200413 4.72638362 2.56177145]\n",
      "[2.53357921 4.81760827 2.51343897]\n",
      "[2.4905081  4.85950624 2.48378962]\n",
      "[2.4695949  4.8795435  2.46735499]\n",
      "[2.45939379 4.88933639 2.45864712]\n",
      "[2.45438898 4.89417664 2.45414008]\n",
      "[2.45192097 4.89658273 2.451838  ]\n",
      "[2.45069903 4.89778228 2.45067137]\n",
      "[2.45009223 4.89838117 2.45008301]\n",
      "[2.44979025 4.8986804  2.44978718]\n",
      "[2.44963975 4.89882996 2.44963873]\n",
      "[2.44956466 4.89890473 2.44956432]\n",
      "[2.44952718 4.89894211 2.44952706]\n",
      "[2.44950845 4.8989608  2.44950841]\n",
      "[2.44949909 4.89897014 2.44949908]\n",
      "[[1.         0.         0.        ]\n",
      " [0.90453403 0.30151134 0.30151134]\n",
      " [0.69431384 0.56807496 0.44183608]\n",
      " [0.54609873 0.70212694 0.45693975]\n",
      " [0.47245013 0.76231994 0.44233379]\n",
      " [0.4383649  0.79018972 0.42829478]\n",
      " [0.42258173 0.8035404  0.4192225 ]\n",
      " [0.41516171 0.81006801 0.41404176]\n",
      " [0.41161811 0.8132947  0.41124477]\n",
      " [0.40990367 0.81489875 0.40977922]\n",
      " [0.409066   0.81569844 0.40902452]\n",
      " [0.40865379 0.81609771 0.40863996]\n",
      " [0.40844991 0.81629719 0.4084453 ]\n",
      " [0.40834872 0.8163969  0.40834719]\n",
      " [0.40829838 0.81644674 0.40829787]\n",
      " [0.40827329 0.81647166 0.40827312]\n",
      " [0.40826078 0.81648412 0.40826072]\n",
      " [0.40825453 0.81649035 0.40825451]\n",
      " [0.40825141 0.81649347 0.4082514 ]\n",
      " [0.40824985 0.81649502 0.40824985]]\n"
     ]
    }
   ],
   "source": [
    "#Problem 2 :\n",
    "A = (np.array([[3,1,1],\n",
    "              [1,5,1],\n",
    "              [1,1,3]])).astype('float64')\n",
    "n = 20 \n",
    "x = np.zeros((n,3))\n",
    "x[0] = np.array([1,0,0])\n",
    "print(x)\n",
    "for k in range(n-1):\n",
    "    res = np.matmul(A, x[k])\n",
    "    print(res)\n",
    "    x[k+1] = res/LA.norm(res)\n",
    "print(x)"
   ]
  },
  {
   "cell_type": "code",
   "execution_count": 6,
   "metadata": {},
   "outputs": [
    {
     "name": "stdout",
     "output_type": "stream",
     "text": [
      "[6. 2. 3.]\n",
      "[[-4.08248290e-01 -7.07106781e-01  5.77350269e-01]\n",
      " [-8.16496581e-01  9.72565920e-16 -5.77350269e-01]\n",
      " [-4.08248290e-01  7.07106781e-01  5.77350269e-01]]\n"
     ]
    }
   ],
   "source": [
    "w, v = LA.eig(np.array([[3,1,1],[1,5,1],[1,1,3]]))\n",
    "print(w)\n",
    "print(v)"
   ]
  },
  {
   "cell_type": "code",
   "execution_count": 139,
   "metadata": {},
   "outputs": [
    {
     "ename": "ValueError",
     "evalue": "Invalid norm order for vectors.",
     "output_type": "error",
     "traceback": [
      "\u001b[1;31m---------------------------------------------------------------------------\u001b[0m",
      "\u001b[1;31mTypeError\u001b[0m                                 Traceback (most recent call last)",
      "\u001b[1;32m~\\Anaconda3\\lib\\site-packages\\numpy\\linalg\\linalg.py\u001b[0m in \u001b[0;36mnorm\u001b[1;34m(x, ord, axis, keepdims)\u001b[0m\n\u001b[0;32m   2392\u001b[0m             \u001b[1;32mtry\u001b[0m\u001b[1;33m:\u001b[0m\u001b[1;33m\u001b[0m\u001b[1;33m\u001b[0m\u001b[0m\n\u001b[1;32m-> 2393\u001b[1;33m                 \u001b[0mord\u001b[0m \u001b[1;33m+\u001b[0m \u001b[1;36m1\u001b[0m\u001b[1;33m\u001b[0m\u001b[1;33m\u001b[0m\u001b[0m\n\u001b[0m\u001b[0;32m   2394\u001b[0m             \u001b[1;32mexcept\u001b[0m \u001b[0mTypeError\u001b[0m\u001b[1;33m:\u001b[0m\u001b[1;33m\u001b[0m\u001b[1;33m\u001b[0m\u001b[0m\n",
      "\u001b[1;31mTypeError\u001b[0m: can only concatenate str (not \"int\") to str",
      "\nDuring handling of the above exception, another exception occurred:\n",
      "\u001b[1;31mValueError\u001b[0m                                Traceback (most recent call last)",
      "\u001b[1;32m<ipython-input-139-9bbfae204fae>\u001b[0m in \u001b[0;36m<module>\u001b[1;34m\u001b[0m\n\u001b[1;32m----> 1\u001b[1;33m \u001b[0mLA\u001b[0m\u001b[1;33m.\u001b[0m\u001b[0mnorm\u001b[0m\u001b[1;33m(\u001b[0m\u001b[1;33m[\u001b[0m\u001b[1;36m4\u001b[0m\u001b[1;33m,\u001b[0m\u001b[1;36m3\u001b[0m\u001b[1;33m]\u001b[0m\u001b[1;33m,\u001b[0m \u001b[1;34m'inf'\u001b[0m\u001b[1;33m)\u001b[0m\u001b[1;33m\u001b[0m\u001b[1;33m\u001b[0m\u001b[0m\n\u001b[0m",
      "\u001b[1;32m~\\Anaconda3\\lib\\site-packages\\numpy\\linalg\\linalg.py\u001b[0m in \u001b[0;36mnorm\u001b[1;34m(x, ord, axis, keepdims)\u001b[0m\n\u001b[0;32m   2393\u001b[0m                 \u001b[0mord\u001b[0m \u001b[1;33m+\u001b[0m \u001b[1;36m1\u001b[0m\u001b[1;33m\u001b[0m\u001b[1;33m\u001b[0m\u001b[0m\n\u001b[0;32m   2394\u001b[0m             \u001b[1;32mexcept\u001b[0m \u001b[0mTypeError\u001b[0m\u001b[1;33m:\u001b[0m\u001b[1;33m\u001b[0m\u001b[1;33m\u001b[0m\u001b[0m\n\u001b[1;32m-> 2395\u001b[1;33m                 \u001b[1;32mraise\u001b[0m \u001b[0mValueError\u001b[0m\u001b[1;33m(\u001b[0m\u001b[1;34m\"Invalid norm order for vectors.\"\u001b[0m\u001b[1;33m)\u001b[0m\u001b[1;33m\u001b[0m\u001b[1;33m\u001b[0m\u001b[0m\n\u001b[0m\u001b[0;32m   2396\u001b[0m             \u001b[0mabsx\u001b[0m \u001b[1;33m=\u001b[0m \u001b[0mabs\u001b[0m\u001b[1;33m(\u001b[0m\u001b[0mx\u001b[0m\u001b[1;33m)\u001b[0m\u001b[1;33m\u001b[0m\u001b[1;33m\u001b[0m\u001b[0m\n\u001b[0;32m   2397\u001b[0m             \u001b[0mabsx\u001b[0m \u001b[1;33m**=\u001b[0m \u001b[0mord\u001b[0m\u001b[1;33m\u001b[0m\u001b[1;33m\u001b[0m\u001b[0m\n",
      "\u001b[1;31mValueError\u001b[0m: Invalid norm order for vectors."
     ]
    }
   ],
   "source": []
  },
  {
   "cell_type": "code",
   "execution_count": null,
   "metadata": {},
   "outputs": [],
   "source": []
  }
 ],
 "metadata": {
  "kernelspec": {
   "display_name": "Python 3",
   "language": "python",
   "name": "python3"
  },
  "language_info": {
   "codemirror_mode": {
    "name": "ipython",
    "version": 3
   },
   "file_extension": ".py",
   "mimetype": "text/x-python",
   "name": "python",
   "nbconvert_exporter": "python",
   "pygments_lexer": "ipython3",
   "version": "3.7.1"
  }
 },
 "nbformat": 4,
 "nbformat_minor": 2
}
