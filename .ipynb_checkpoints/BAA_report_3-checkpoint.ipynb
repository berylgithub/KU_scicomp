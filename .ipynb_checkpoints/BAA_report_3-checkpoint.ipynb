{
 "cells": [
  {
   "cell_type": "code",
   "execution_count": 197,
   "metadata": {},
   "outputs": [],
   "source": [
    "import numpy as np\n",
    "from scipy.sparse import diags\n",
    "import matplotlib.pyplot as plt\n",
    "\n",
    "np.set_printoptions(precision=4)"
   ]
  },
  {
   "cell_type": "code",
   "execution_count": 198,
   "metadata": {},
   "outputs": [],
   "source": [
    "#tridiagonal algorithm\n",
    "def tridiagonal_algo(A, d):\n",
    "    #matrix separation\n",
    "    b = np.copy(np.diag(A))\n",
    "    a = np.concatenate(([0], np.diagonal(A,-1))) #lower\n",
    "    c = np.concatenate((np.diagonal(A,1), [0])) #upper\n",
    "    n=len(d)\n",
    "    x=np.zeros((n))\n",
    "    #thomas algorithm\n",
    "    #forward sweep:\n",
    "    for i in range(1, n):\n",
    "        w = a[i]/float(b[i-1])\n",
    "        b[i] = b[i] - (w*c[i-1])\n",
    "        d[i] = d[i] - (w*d[i-1])\n",
    "    #back-substitution:\n",
    "    x[n-1] = d[n-1]/b[n-1]\n",
    "    for i in range(n-2, -1, -1):\n",
    "        x[i] = (d[i] - c[i]*x[i+1])/b[i]\n",
    "    return x"
   ]
  },
  {
   "cell_type": "code",
   "execution_count": 199,
   "metadata": {},
   "outputs": [],
   "source": [
    "#exact solution function\n",
    "def u(x,t,f):\n",
    "    if 0<=x<t:\n",
    "        return 0\n",
    "    elif t<=x<=1:\n",
    "        return f(x-t)\n",
    "\n",
    "#initial condition functions\n",
    "def f_1(x):\n",
    "    if x<0.5:\n",
    "        return 0.25 - np.abs(x-0.25)\n",
    "    else:\n",
    "        return 0\n",
    "f_2 = lambda x:np.power(np.sin(np.pi*x),2)\n",
    "\n",
    "#definition of numerical error on max norm\n",
    "e = lambda v_k, u_kn:np.amax(np.abs(np.subtract(v_k, u_kn)))"
   ]
  },
  {
   "cell_type": "code",
   "execution_count": 200,
   "metadata": {},
   "outputs": [],
   "source": [
    "'''\n",
    "M = 64\n",
    "'''\n",
    "\n",
    "#data initialization\n",
    "b = 1\n",
    "M = 64\n",
    "h = T = 1/M\n",
    "n = M\n",
    "r = b*T/(2*h)\n",
    "#Ax = B\n",
    "A = diags([-r, 1, r], [-1, 0, 1], shape=(int(n+1), int(n+1))).toarray()\n",
    "#fill B with kh\n",
    "B = np.linspace(0, 1, n+1)"
   ]
  },
  {
   "cell_type": "code",
   "execution_count": 201,
   "metadata": {},
   "outputs": [
    {
     "name": "stdout",
     "output_type": "stream",
     "text": [
      "M = 64 ; error at M/2 =  0.06999966922216688\n"
     ]
    }
   ],
   "source": [
    "'''\n",
    "(i) initial condition data (f_1), the matrix pattern is Z[time][space], Z any 2D matrix\n",
    "'''\n",
    "\n",
    "V_mat = np.zeros((n+1,n+1)) #to save the overall result of v_k^n\n",
    "f_1_vec = np.vectorize(f_1)\n",
    "v = f_1_vec(B)\n",
    "#v[0] = 0\n",
    "v[M] = 0\n",
    "V_mat[0] = v\n",
    "\n",
    "#do tridiagonal algo for numerical solution\n",
    "for i in range(n): \n",
    "    v = tridiagonal_algo(A, v)\n",
    "    v[M] = 0\n",
    "    V_mat[i+1] = v\n",
    "\n",
    "#exact sol:\n",
    "U = np.zeros((n+1, n+1))\n",
    "for i in range(n+1):\n",
    "    for k in range(n+1):\n",
    "        U[i][k] = u(k*h, i*T, f_1)\n",
    "        \n",
    "#errors on max norm\n",
    "e_range = int(M/2)+1\n",
    "errs = np.zeros(e_range)\n",
    "for i in range(e_range):\n",
    "    errs[i] = e(V_mat[i, 1:M], U[i, 1:M])\n",
    "print(\"M =\",M,\"; error at M/2 = \",errs[-1])"
   ]
  },
  {
   "cell_type": "code",
   "execution_count": 202,
   "metadata": {},
   "outputs": [
    {
     "data": {
      "text/plain": [
       "[<matplotlib.lines.Line2D at 0x7f1dd42a4518>]"
      ]
     },
     "execution_count": 202,
     "metadata": {},
     "output_type": "execute_result"
    },
    {
     "data": {
      "image/png": "[encoded data removed]",
      "text/plain": [
       "<Figure size 432x288 with 1 Axes>"
      ]
     },
     "metadata": {},
     "output_type": "display_data"
    }
   ],
   "source": [
    "'''\n",
    "plot max norm errors of f_1\n",
    "'''\n",
    "time_steps = np.linspace(1,int(M/2),int(M/2))\n",
    "plt.title(\"(i) max norm error plot\")\n",
    "plt.xlabel(\"time steps\")\n",
    "plt.ylabel(\"max norm error\")\n",
    "plt.plot(time_steps, errs[1:])"
   ]
  },
  {
   "cell_type": "code",
   "execution_count": 203,
   "metadata": {},
   "outputs": [
    {
     "name": "stdout",
     "output_type": "stream",
     "text": [
      "M = 64 ; error at M/2 =  0.37410438515899813\n"
     ]
    }
   ],
   "source": [
    "'''\n",
    "(ii) initial condition data (f_2), the matrix pattern is Z[time][space], Z any 2D matrix\n",
    "'''\n",
    "\n",
    "V_mat = np.zeros((n+1,n+1)) #to save the overall result of v_k^n\n",
    "f_2_vec = np.vectorize(f_2)\n",
    "v = f_2_vec(B)\n",
    "#v[0] = 0\n",
    "v[M] = 0\n",
    "V_mat[0] = v\n",
    "\n",
    "#do tridiagonal algo for numerical solution\n",
    "for i in range(n): \n",
    "    v = tridiagonal_algo(A, v)\n",
    "    v[M] = 0\n",
    "    V_mat[i+1] = v\n",
    "\n",
    "#exact sol:\n",
    "U = np.zeros((n+1, n+1))\n",
    "for i in range(n+1):\n",
    "    for k in range(n+1):\n",
    "        U[i][k] = u(k*h, i*T, f_2)\n",
    "        \n",
    "#errors on max norm\n",
    "e_range = int(M/2)+1\n",
    "errs = np.zeros(e_range)\n",
    "for i in range(e_range):\n",
    "    errs[i] = e(V_mat[i, 1:M], U[i, 1:M])\n",
    "print(\"M =\",M,\"; error at M/2 = \",errs[-1])"
   ]
  },
  {
   "cell_type": "code",
   "execution_count": 204,
   "metadata": {},
   "outputs": [
    {
     "data": {
      "text/plain": [
       "[<matplotlib.lines.Line2D at 0x7f1dd4274b38>]"
      ]
     },
     "execution_count": 204,
     "metadata": {},
     "output_type": "execute_result"
    },
    {
     "data": {
      "image/png": "[encoded data removed]",
      "text/plain": [
       "<Figure size 432x288 with 1 Axes>"
      ]
     },
     "metadata": {},
     "output_type": "display_data"
    }
   ],
   "source": [
    "'''\n",
    "plot max norm errors of f_2\n",
    "'''\n",
    "time_steps = np.linspace(1,int(M/2),int(M/2))\n",
    "plt.title(\"(ii) max norm error plot\")\n",
    "plt.xlabel(\"time steps\")\n",
    "plt.ylabel(\"max norm error\")\n",
    "plt.plot(time_steps, errs[1:])"
   ]
  },
  {
   "cell_type": "code",
   "execution_count": 205,
   "metadata": {},
   "outputs": [],
   "source": [
    "'''\n",
    "M = 128\n",
    "'''\n",
    "#data initialization\n",
    "b = 1\n",
    "M = 128\n",
    "h = T = 1/M\n",
    "n = M\n",
    "r = b*T/(2*h)\n",
    "#Ax = B\n",
    "A = diags([-r, 1, r], [-1, 0, 1], shape=(int(n+1), int(n+1))).toarray()\n",
    "#fill B with kh\n",
    "B = np.linspace(0, 1, n+1)"
   ]
  },
  {
   "cell_type": "code",
   "execution_count": 206,
   "metadata": {},
   "outputs": [
    {
     "name": "stdout",
     "output_type": "stream",
     "text": [
      "M = 128 ; error at M/2 =  0.04976422738039771\n"
     ]
    }
   ],
   "source": [
    "'''\n",
    "(i) initial condition data (f_1), the matrix pattern is Z[time][space], Z any 2D matrix\n",
    "'''\n",
    "\n",
    "V_mat = np.zeros((n+1,n+1)) #to save the overall result of v_k^n\n",
    "f_1_vec = np.vectorize(f_1)\n",
    "v = f_1_vec(B)\n",
    "#v[0] = 0\n",
    "v[M] = 0\n",
    "V_mat[0] = v\n",
    "\n",
    "#do tridiagonal algo for numerical solution\n",
    "for i in range(n): \n",
    "    v = tridiagonal_algo(A, v)\n",
    "    v[M] = 0\n",
    "    V_mat[i+1] = v\n",
    "\n",
    "#exact sol:\n",
    "U = np.zeros((n+1, n+1))\n",
    "for i in range(n+1):\n",
    "    for k in range(n+1):\n",
    "        U[i][k] = u(k*h, i*T, f_1)\n",
    "        \n",
    "#errors on max norm\n",
    "e_range = int(M/2)+1\n",
    "errs = np.zeros(e_range)\n",
    "for i in range(e_range):\n",
    "    errs[i] = e(V_mat[i, 1:M], U[i, 1:M])\n",
    "print(\"M =\",M,\"; error at M/2 = \",errs[-1])"
   ]
  },
  {
   "cell_type": "code",
   "execution_count": 207,
   "metadata": {},
   "outputs": [
    {
     "name": "stdout",
     "output_type": "stream",
     "text": [
      "M = 128 ; error at M/2 =  0.3566893412720439\n"
     ]
    }
   ],
   "source": [
    "'''\n",
    "(ii) initial condition data (f_2), the matrix pattern is Z[time][space], Z any 2D matrix\n",
    "'''\n",
    "\n",
    "V_mat = np.zeros((n+1,n+1)) #to save the overall result of v_k^n\n",
    "f_2_vec = np.vectorize(f_2)\n",
    "v = f_2_vec(B)\n",
    "#v[0] = 0\n",
    "v[M] = 0\n",
    "V_mat[0] = v\n",
    "\n",
    "#do tridiagonal algo for numerical solution\n",
    "for i in range(n): \n",
    "    v = tridiagonal_algo(A, v)\n",
    "    v[M] = 0\n",
    "    V_mat[i+1] = v\n",
    "\n",
    "#exact sol:\n",
    "U = np.zeros((n+1, n+1))\n",
    "for i in range(n+1):\n",
    "    for k in range(n+1):\n",
    "        U[i][k] = u(k*h, i*T, f_2)\n",
    "        \n",
    "#errors on max norm\n",
    "e_range = int(M/2)+1\n",
    "errs = np.zeros(e_range)\n",
    "for i in range(e_range):\n",
    "    errs[i] = e(V_mat[i, 1:M], U[i, 1:M])\n",
    "print(\"M =\",M,\"; error at M/2 = \",errs[-1])"
   ]
  },
  {
   "cell_type": "code",
   "execution_count": 208,
   "metadata": {},
   "outputs": [],
   "source": [
    "'''\n",
    "M = 256\n",
    "'''\n",
    "#data initialization\n",
    "b = 1\n",
    "M = 256\n",
    "h = T = 1/M\n",
    "n = M\n",
    "r = b*T/(2*h)\n",
    "#Ax = B\n",
    "A = diags([-r, 1, r], [-1, 0, 1], shape=(int(n+1), int(n+1))).toarray()\n",
    "#fill B with kh\n",
    "B = np.linspace(0, 1, n+1)"
   ]
  },
  {
   "cell_type": "code",
   "execution_count": 209,
   "metadata": {},
   "outputs": [
    {
     "name": "stdout",
     "output_type": "stream",
     "text": [
      "M = 256 ; error at M/2 =  0.03522742114450761\n"
     ]
    }
   ],
   "source": [
    "'''\n",
    "(i) initial condition data (f_1), the matrix pattern is Z[time][space], Z any 2D matrix\n",
    "'''\n",
    "\n",
    "V_mat = np.zeros((n+1,n+1)) #to save the overall result of v_k^n\n",
    "f_1_vec = np.vectorize(f_1)\n",
    "v = f_1_vec(B)\n",
    "#v[0] = 0\n",
    "v[M] = 0\n",
    "V_mat[0] = v\n",
    "\n",
    "#do tridiagonal algo for numerical solution\n",
    "for i in range(n): \n",
    "    v = tridiagonal_algo(A, v)\n",
    "    v[M] = 0\n",
    "    V_mat[i+1] = v\n",
    "\n",
    "#exact sol:\n",
    "U = np.zeros((n+1, n+1))\n",
    "for i in range(n+1):\n",
    "    for k in range(n+1):\n",
    "        U[i][k] = u(k*h, i*T, f_1)\n",
    "        \n",
    "#errors on max norm\n",
    "e_range = int(M/2)+1\n",
    "errs = np.zeros(e_range)\n",
    "for i in range(e_range):\n",
    "    errs[i] = e(V_mat[i, 1:M], U[i, 1:M])\n",
    "print(\"M =\",M,\"; error at M/2 = \",errs[-1])"
   ]
  },
  {
   "cell_type": "code",
   "execution_count": 210,
   "metadata": {},
   "outputs": [
    {
     "name": "stdout",
     "output_type": "stream",
     "text": [
      "M = 256 ; error at M/2 =  0.34564260763652954\n"
     ]
    }
   ],
   "source": [
    "'''\n",
    "(ii) initial condition data (f_2), the matrix pattern is Z[time][space], Z any 2D matrix\n",
    "'''\n",
    "\n",
    "V_mat = np.zeros((n+1,n+1)) #to save the overall result of v_k^n\n",
    "f_2_vec = np.vectorize(f_2)\n",
    "v = f_2_vec(B)\n",
    "#v[0] = 0\n",
    "v[M] = 0\n",
    "V_mat[0] = v\n",
    "\n",
    "#do tridiagonal algo for numerical solution\n",
    "for i in range(n): \n",
    "    v = tridiagonal_algo(A, v)\n",
    "    v[M] = 0\n",
    "    V_mat[i+1] = v\n",
    "\n",
    "#exact sol:\n",
    "U = np.zeros((n+1, n+1))\n",
    "for i in range(n+1):\n",
    "    for k in range(n+1):\n",
    "        U[i][k] = u(k*h, i*T, f_2)\n",
    "        \n",
    "#errors on max norm\n",
    "e_range = int(M/2)+1\n",
    "errs = np.zeros(e_range)\n",
    "for i in range(e_range):\n",
    "    errs[i] = e(V_mat[i, 1:M], U[i, 1:M])\n",
    "print(\"M =\",M,\"; error at M/2 = \",errs[-1])"
   ]
  },
  {
   "cell_type": "code",
   "execution_count": 211,
   "metadata": {},
   "outputs": [],
   "source": [
    "'''\n",
    "M = 512\n",
    "'''\n",
    "#data initialization\n",
    "b = 1\n",
    "M = 512\n",
    "h = T = 1/M\n",
    "n = M\n",
    "r = b*T/(2*h)\n",
    "#Ax = B\n",
    "A = diags([-r, 1, r], [-1, 0, 1], shape=(int(n+1), int(n+1))).toarray()\n",
    "#fill B with kh\n",
    "B = np.linspace(0, 1, n+1)"
   ]
  },
  {
   "cell_type": "code",
   "execution_count": 212,
   "metadata": {},
   "outputs": [
    {
     "name": "stdout",
     "output_type": "stream",
     "text": [
      "M = 512 ; error at M/2 =  0.02492172075242688\n"
     ]
    }
   ],
   "source": [
    "'''\n",
    "(i) initial condition data (f_1), the matrix pattern is Z[time][space], Z any 2D matrix\n",
    "'''\n",
    "\n",
    "V_mat = np.zeros((n+1,n+1)) #to save the overall result of v_k^n\n",
    "f_1_vec = np.vectorize(f_1)\n",
    "v = f_1_vec(B)\n",
    "#v[0] = 0\n",
    "v[M] = 0\n",
    "V_mat[0] = v\n",
    "\n",
    "#do tridiagonal algo for numerical solution\n",
    "for i in range(n): \n",
    "    v = tridiagonal_algo(A, v)\n",
    "    v[M] = 0\n",
    "    V_mat[i+1] = v\n",
    "\n",
    "#exact sol:\n",
    "U = np.zeros((n+1, n+1))\n",
    "for i in range(n+1):\n",
    "    for k in range(n+1):\n",
    "        U[i][k] = u(k*h, i*T, f_1)\n",
    "        \n",
    "#errors on max norm\n",
    "e_range = int(M/2)+1\n",
    "errs = np.zeros(e_range)\n",
    "for i in range(e_range):\n",
    "    errs[i] = e(V_mat[i, 1:M], U[i, 1:M])\n",
    "print(\"M =\",M,\"; error at M/2 = \",errs[-1])"
   ]
  },
  {
   "cell_type": "code",
   "execution_count": 213,
   "metadata": {},
   "outputs": [
    {
     "name": "stdout",
     "output_type": "stream",
     "text": [
      "M = 512 ; error at M/2 =  0.3396293708214829\n"
     ]
    }
   ],
   "source": [
    "'''\n",
    "(ii) initial condition data (f_2), the matrix pattern is Z[time][space], Z any 2D matrix\n",
    "'''\n",
    "\n",
    "V_mat = np.zeros((n+1,n+1)) #to save the overall result of v_k^n\n",
    "f_2_vec = np.vectorize(f_2)\n",
    "v = f_2_vec(B)\n",
    "#v[0] = 0\n",
    "v[M] = 0\n",
    "V_mat[0] = v\n",
    "\n",
    "#do tridiagonal algo for numerical solution\n",
    "for i in range(n): \n",
    "    v = tridiagonal_algo(A, v)\n",
    "    v[M] = 0\n",
    "    V_mat[i+1] = v\n",
    "\n",
    "#exact sol:\n",
    "U = np.zeros((n+1, n+1))\n",
    "for i in range(n+1):\n",
    "    for k in range(n+1):\n",
    "        U[i][k] = u(k*h, i*T, f_2)\n",
    "        \n",
    "#errors on max norm\n",
    "e_range = int(M/2)+1\n",
    "errs = np.zeros(e_range)\n",
    "for i in range(e_range):\n",
    "    errs[i] = e(V_mat[i, 1:M], U[i, 1:M])\n",
    "print(\"M =\",M,\"; error at M/2 = \",errs[-1])"
   ]
  }
 ],
 "metadata": {
  "kernelspec": {
   "display_name": "Python 3",
   "language": "python",
   "name": "python3"
  },
  "language_info": {
   "codemirror_mode": {
    "name": "ipython",
    "version": 3
   },
   "file_extension": ".py",
   "mimetype": "text/x-python",
   "name": "python",
   "nbconvert_exporter": "python",
   "pygments_lexer": "ipython3",
   "version": "3.6.7"
  }
 },
 "nbformat": 4,
 "nbformat_minor": 2
}
